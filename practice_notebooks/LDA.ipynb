{
 "cells": [
  {
   "cell_type": "markdown",
   "metadata": {},
   "source": [
    "## How to do a plot in scalation and how to implement LDA in Scala using Scalation\n",
    "\n",
    "We use packages in scalation. In particular, `linalgebra`, `random`, and `plot`."
   ]
  },
  {
   "cell_type": "code",
   "execution_count": 1,
   "metadata": {},
   "outputs": [
    {
     "name": "stdout",
     "output_type": "stream",
     "text": [
      "import scalation.random.Normal\n",
      "import scalation.linalgebra.VectorD\n",
      "import scalation.linalgebra.VectorI\n",
      "import scalation.plot.Plot\n",
      "import scalation.linalgebra\n"
     ]
    }
   ],
   "source": [
    "// We first import the \n",
    "import scalation.random.Normal\n",
    "import scalation.linalgebra.VectorD\n",
    "import scalation.linalgebra.VectorI\n",
    "import scalation.plot.Plot\n",
    "import scalation.linalgebra"
   ]
  },
  {
   "cell_type": "markdown",
   "metadata": {},
   "source": [
    "Now we generate a normal distribution of data. `normal1` is the data for well patients and `normal2` is the data for sick patients (because their body temperatures are high).\n"
   ]
  },
  {
   "cell_type": "code",
   "execution_count": 2,
   "metadata": {},
   "outputs": [
    {
     "name": "stdout",
     "output_type": "stream",
     "text": [
      "normal1: scalation.random.Normal = Normal(98.6,1.0,0)\n",
      "normal2: scalation.random.Normal = Normal(101.0,1.0,0)\n"
     ]
    }
   ],
   "source": [
    "val normal1 = Normal(98.6, 1.0)\n",
    "val normal2 = Normal(101, 1.0)"
   ]
  },
  {
   "cell_type": "code",
   "execution_count": 3,
   "metadata": {},
   "outputs": [
    {
     "name": "stdout",
     "output_type": "stream",
     "text": [
      "x: scalation.linalgebra.VectorD = VectorD(0.00000,\t0.00000,\t0.00000,\t0.00000,\t0.00000,\t0.00000,\t0.00000,\t0.00000,\t0.00000,\t0.00000,\t0.00000,\t0.00000,\t0.00000,\t0.00000,\t0.00000,\t0.00000,\t0.00000,\t0.00000,\t0.00000,\t0.00000,\t0.00000,\t0.00000,\t0.00000,\t0.00000,\t0.00000,\t0.00000,\t0.00000,\t0.00000,\t0.00000,\t0.00000,\t0.00000,\t0.00000,\t0.00000,\t0.00000,\t0.00000,\t0.00000,\t0.00000,\t0.00000,\t0.00000,\t0.00000,\t0.00000,\t0.00000,\t0.00000,\t0.00000,\t0.00000,\t0.00000,\t0.00000,\t0.00000,\t0.00000,\t0.00000,\t0.00000,\t0.00000,\t0.00000,\t0.00000,\t0.00000,\t0.00000,\t0.00000,\t0.00000,\t0.00000,\t0.00000,\t0.00000,\t0.00000,\t0.00000,\t0.00000,\t0.00000,\t0.00000,\t0.00000,\t0.00000,\t0.00000,\t0.00000,\t0.00000,\t0.00000,\t0.00000,\t0.00000,\t0.00000,\t0.00000,\t0.00000,\t0.00000,\t0.00000,\t0.00000,\t0.00000,\t0.00000,\t0.00000,\t0.00000,...\n",
      "y: scalation.linalgebra.VectorI = VectorI(0,\t0,\t0,\t0,\t0,\t0,\t0,\t0,\t0,\t0,\t0,\t0,\t0,\t0,\t0,\t0,\t0,\t0,\t0,\t0,\t0,\t0,\t0,\t0,\t0,\t0,\t0,\t0,\t0,\t0,\t0,\t0,\t0,\t0,\t0,\t0,\t0,\t0,\t0,\t0,\t0,\t0,\t0,\t0,\t0,\t0,\t0,\t0,\t0,\t0,\t0,\t0,\t0,\t0,\t0,\t0,\t0,\t0,\t0,\t0,\t0,\t0,\t0,\t0,\t0,\t0,\t0,\t0,\t0,\t0,\t0,\t0,\t0,\t0,\t0,\t0,\t0,\t0,\t0,\t0,\t0,\t0,\t0,\t0,\t0,\t0,\t0,\t0,\t0,\t0,\t0,\t0,\t0,\t0,\t0,\t0,\t0,\t0,\t0,\t0,\t0,\t0,\t0,\t0,\t0,\t0,\t0,\t0,\t0,\t0,\t0,\t0,\t0,\t0,\t0,\t0,\t0,\t0,\t0,\t0,\t0,\t0,\t0,\t0,\t0,\t0,\t0,\t0,\t0,\t0,\t0,\t0,\t0,\t0,\t0,\t0,\t0,\t0,\t0,\t0,\t0,\t0,\t0,\t0,\t0,\t0,\t0,\t0,\t0,\t0,\t0,\t0,\t0,\t0,\t0,\t0,\t0,\t0,\t0,\t0,\t0,\t0,\t0,\t0,\t0,\t0,\t0,\t0,\t0,\t0,\t0,\t0,\t0,\t0,\t0,\t0,\t0,\t0,\t0,\t0,\t0,\t0,\t0,\t0,\t0,\t0,\t0,\t0,\t0,\t0,\t0,\t0,\t0,\t0,\t0,\t0,\t0,\t0,\t0,\t0)\n"
     ]
    }
   ],
   "source": [
    "// Build two new vectors\n",
    "var x = new VectorD(200)\n",
    "var y = new VectorI(200)"
   ]
  },
  {
   "cell_type": "code",
   "execution_count": 4,
   "metadata": {},
   "outputs": [
    {
     "name": "stdout",
     "output_type": "stream",
     "text": [
      "\n"
     ]
    }
   ],
   "source": [
    "//Assign X values to X vector\n",
    "\n",
    "for (i <- 0 until 100) x(i) = normal1.gen\n",
    "for (i <- 100 until 200) x(i) = normal2.gen"
   ]
  },
  {
   "cell_type": "code",
   "execution_count": 5,
   "metadata": {},
   "outputs": [
    {
     "name": "stdout",
     "output_type": "stream",
     "text": [
      "\n"
     ]
    }
   ],
   "source": [
    "//Assign y values to Y vector\n",
    "\n",
    "for (i <- 0 until 100) y(i) = 0\n",
    "for (i <- 100 until 200) y(i) = 1"
   ]
  },
  {
   "cell_type": "code",
   "execution_count": 6,
   "metadata": {},
   "outputs": [
    {
     "name": "stdout",
     "output_type": "stream",
     "text": [
      "t: scalation.linalgebra.VectorD = VectorD(0.00000,\t1.00000,\t2.00000,\t3.00000,\t4.00000,\t5.00000,\t6.00000,\t7.00000,\t8.00000,\t9.00000,\t10.0000,\t11.0000,\t12.0000,\t13.0000,\t14.0000,\t15.0000,\t16.0000,\t17.0000,\t18.0000,\t19.0000,\t20.0000,\t21.0000,\t22.0000,\t23.0000,\t24.0000,\t25.0000,\t26.0000,\t27.0000,\t28.0000,\t29.0000,\t30.0000,\t31.0000,\t32.0000,\t33.0000,\t34.0000,\t35.0000,\t36.0000,\t37.0000,\t38.0000,\t39.0000,\t40.0000,\t41.0000,\t42.0000,\t43.0000,\t44.0000,\t45.0000,\t46.0000,\t47.0000,\t48.0000,\t49.0000,\t50.0000,\t51.0000,\t52.0000,\t53.0000,\t54.0000,\t55.0000,\t56.0000,\t57.0000,\t58.0000,\t59.0000,\t60.0000,\t61.0000,\t62.0000,\t63.0000,\t64.0000,\t65.0000,\t66.0000,\t67.0000,\t68.0000,\t69.0000,\t70.0000,\t71.0000,\t72.0000,\t73.0000,\t74.0000,\t75.0000,\t76.0000,\t77.0000,\t78.0000,\t79.0000,\t80.0000,\t81.0000,\t82.0000,\t83.0000,...\n"
     ]
    }
   ],
   "source": [
    "// Build a index vector\n",
    "val t = VectorD.range(0, 200)"
   ]
  },
  {
   "cell_type": "markdown",
   "metadata": {},
   "source": [
    "## Let's do a plot! "
   ]
  },
  {
   "cell_type": "code",
   "execution_count": 7,
   "metadata": {},
   "outputs": [
    {
     "name": "stdout",
     "output_type": "stream",
     "text": [
      "Run + title\n",
      "res4: scalation.plot.Plot = scalation.plot.Plot[frame0,100,100,700x700,layout=java.awt.BorderLayout,title=Plot y vs. x,resizable,normal,defaultCloseOperation=EXIT_ON_CLOSE,rootPane=javax.swing.JRootPane[,0,22,700x678,layout=javax.swing.JRootPane$RootLayout,alignmentX=0.0,alignmentY=0.0,border=,flags=16777673,maximumSize=,minimumSize=,preferredSize=],rootPaneCheckingEnabled=true]\n"
     ]
    }
   ],
   "source": [
    "new Plot(x, y.toDouble)"
   ]
  },
  {
   "cell_type": "markdown",
   "metadata": {},
   "source": [
    "## Let's do another plot! "
   ]
  },
  {
   "cell_type": "code",
   "execution_count": 8,
   "metadata": {},
   "outputs": [
    {
     "name": "stdout",
     "output_type": "stream",
     "text": [
      "Run + title\n",
      "res5: scalation.plot.Plot = scalation.plot.Plot[frame1,100,100,700x700,layout=java.awt.BorderLayout,title=Plot y vs. x,resizable,normal,defaultCloseOperation=EXIT_ON_CLOSE,rootPane=javax.swing.JRootPane[,0,22,700x678,layout=javax.swing.JRootPane$RootLayout,alignmentX=0.0,alignmentY=0.0,border=,flags=16777673,maximumSize=,minimumSize=,preferredSize=],rootPaneCheckingEnabled=true]\n"
     ]
    }
   ],
   "source": [
    "new Plot(t, y.toDouble)"
   ]
  },
  {
   "cell_type": "markdown",
   "metadata": {},
   "source": [
    "### Build a new vector such that the first part includes the samples whose y values are 0; the second part includes the samples whose y values are 1"
   ]
  },
  {
   "cell_type": "code",
   "execution_count": 9,
   "metadata": {},
   "outputs": [
    {
     "name": "stdout",
     "output_type": "stream",
     "text": [
      "xx: Array[scalation.linalgebra.VectorD] = Array(VectorD(100.048,\t99.3029,\t97.8057,\t98.9031,\t98.3178,\t97.7749,\t98.6282,\t99.0080,\t98.5124,\t97.9430,\t97.2589,\t99.2060,\t99.2224,\t99.2868,\t99.0596,\t98.4586,\t98.0599,\t96.1140,\t101.263,\t98.6280,\t98.0727,\t97.9227,\t98.3729,\t98.6155,\t99.0026,\t97.8122,\t98.4140,\t99.4128,\t99.0549,\t98.0334,\t98.9499,\t97.9341,\t98.2699,\t99.0556,\t98.3792,\t98.7274,\t98.4941,\t98.5831,\t99.0703,\t96.3425,\t97.6411,\t98.9742,\t97.6146,\t98.8174,\t98.7689,\t96.6627,\t96.9932,\t98.7303,\t98.9715,\t100.121,\t99.8516,\t98.4427,\t99.0746,\t98.6416,\t97.8599,\t99.8085,\t98.1223,\t99.7729,\t98.5442,\t98.1508,\t98.0203,\t98.4726,\t97.2527,\t100.379,\t99.1910,\t100.283,\t97.2931,\t99.9950,\t99.0024,\t98.9542,\t98.5546,\t98.8870,\t97.7411,\t98.2419,\t99.4527,\t98.7005,\t98.2718,\t98.4780,\t98.7014,\t97.0934,\t98.8771,\t97.8526,\t99....\n"
     ]
    }
   ],
   "source": [
    "val xx = Array(VectorD(for (i <- x.range if y(i) == 0) yield x(i)), VectorD(for (i <- x.range if y(i) == 1) yield x(i)))"
   ]
  },
  {
   "cell_type": "code",
   "execution_count": 41,
   "metadata": {},
   "outputs": [
    {
     "name": "stdout",
     "output_type": "stream",
     "text": [
      "sumX: Double = 0.0\n",
      "\n"
     ]
    }
   ],
   "source": [
    "// Calculate the \n",
    "var sumX = 0.0\n",
    "for (x <- 1 until 100){\n",
    "    sumX += ((xx(0)(x) - xx(0).mean)* (xx(0)(x) - xx(0).mean))\n",
    "    sumX += ((xx(1)(x) - xx(1).mean)* (xx(1)(x) - xx(1).mean))\n",
    "}\n",
    "\n"
   ]
  },
  {
   "cell_type": "code",
   "execution_count": 42,
   "metadata": {},
   "outputs": [
    {
     "name": "stdout",
     "output_type": "stream",
     "text": [
      "res38: Double = 180.46871564347362\n"
     ]
    }
   ],
   "source": [
    "sumX"
   ]
  },
  {
   "cell_type": "markdown",
   "metadata": {},
   "source": [
    "## Get \\sigma^2\n",
    "\n",
    "Divide the sumX by the degree of freedom"
   ]
  },
  {
   "cell_type": "code",
   "execution_count": 46,
   "metadata": {},
   "outputs": [
    {
     "name": "stdout",
     "output_type": "stream",
     "text": [
      "sig2: Double = 0.9114581598155234\n"
     ]
    }
   ],
   "source": [
    "val sig2 = sumX/198   "
   ]
  },
  {
   "cell_type": "code",
   "execution_count": 44,
   "metadata": {},
   "outputs": [
    {
     "name": "stdout",
     "output_type": "stream",
     "text": [
      "\n",
      "term1: Double = 0.0\n",
      "term2: Double = 0.0\n",
      "\n",
      "train: (u: Double, v2: Double)Unit\n"
     ]
    }
   ],
   "source": [
    "// calculate term1 and term 2 for delta\n",
    "\n",
    "var term1 = 0.0\n",
    "var term2 = 0.0\n",
    "\n",
    "def train (u: Double, v2: Double) \n",
    "{\n",
    "    term1 = u / (v2)\n",
    "    term2 = (u*u) / (2*v2)\n",
    "}\n"
   ]
  },
  {
   "cell_type": "code",
   "execution_count": 47,
   "metadata": {},
   "outputs": [],
   "source": [
    "train(98, sig2)"
   ]
  },
  {
   "cell_type": "code",
   "execution_count": 48,
   "metadata": {},
   "outputs": [
    {
     "name": "stdout",
     "output_type": "stream",
     "text": [
      "res41: Double = 107.52002046899764\n"
     ]
    }
   ],
   "source": [
    "term1"
   ]
  },
  {
   "cell_type": "code",
   "execution_count": 49,
   "metadata": {},
   "outputs": [
    {
     "name": "stdout",
     "output_type": "stream",
     "text": [
      "res42: Double = 5268.481002980885\n"
     ]
    }
   ],
   "source": [
    "term2"
   ]
  },
  {
   "cell_type": "code",
   "execution_count": 50,
   "metadata": {},
   "outputs": [
    {
     "name": "stdout",
     "output_type": "stream",
     "text": [
      "delta: Double = 0.0\n",
      "classifier: (z: Double)Unit\n",
      "\n"
     ]
    }
   ],
   "source": [
    "var delta = 0.0\n",
    "def classifier(z: Double){\n",
    "    delta = z*term1 + term2\n",
    "}\n",
    "\n"
   ]
  },
  {
   "cell_type": "code",
   "execution_count": 53,
   "metadata": {},
   "outputs": [],
   "source": [
    "classifier(97.0)   // Say, this is the patient's temperature "
   ]
  },
  {
   "cell_type": "code",
   "execution_count": 54,
   "metadata": {},
   "outputs": [
    {
     "name": "stdout",
     "output_type": "stream",
     "text": [
      "res46: Double = 15697.922988473656\n"
     ]
    }
   ],
   "source": [
    "delta"
   ]
  },
  {
   "cell_type": "code",
   "execution_count": null,
   "metadata": {},
   "outputs": [],
   "source": []
  }
 ],
 "metadata": {
  "kernelspec": {
   "display_name": "ScalaTion",
   "language": "scala",
   "name": "scalation"
  },
  "language_info": {
   "file_extension": ".scala",
   "mimetype": "text/x-scala-source",
   "name": "scala"
  }
 },
 "nbformat": 4,
 "nbformat_minor": 2
}
