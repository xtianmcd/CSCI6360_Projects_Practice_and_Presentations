{
 "cells": [
  {
   "cell_type": "markdown",
   "metadata": {},
   "source": [
    "# Downloading Spark\n",
    "\n",
    "- very easy to download at [Spark homepage](https://spark.apache.org)\n",
    "- click big green [\"Download Spark\"](https://spark.apache.org/downloads.html) button\n",
    "- ![Download options](http://pashabd.com/wp-content/uploads/2016/02/apache-spark-download-for-windows.png \"Download Options\")\n"
   ]
  },
  {
   "cell_type": "markdown",
   "metadata": {
    "collapsed": true
   },
   "source": [
    "## Click the link to initiate the download:\n",
    "\n",
    "![Mirror site](https://cdn-images-1.medium.com/max/1600/1*SMoJi0KJZJ5i50hLRoAHnw.jpeg \"Link to mirrow site\")"
   ]
  },
  {
   "cell_type": "markdown",
   "metadata": {},
   "source": [
    "## > Once downloaded, double click the .tar file to expand\n",
    "## > Move the folder to the desired location in your local machine \n",
    "## >> Alternatively, for PySpark, simply type `pip install pyspark` in your command line or terminal\n",
    "- assuming you have pip installed (if not download at https://pip.pypa.io/en/stable/installing/) \n",
    "- navigate to the disired download location in your local machine first \n",
    "- a link is also available on the [main download website](https://spark.apache.org/downloads.html)"
   ]
  },
  {
   "cell_type": "markdown",
   "metadata": {},
   "source": [
    "# Step through the [\"Quick Start Guide\"](https://spark.apache.org/docs/latest/quick-start.html) provided by Spark\n",
    "- Can be run in Scala or Python\n",
    "\n",
    "Step 1: Navigate to the spark directory from the terminal or command line and type `./bin/spark-shell` if using Scala or, for Python, `./bin/pyspark` (or simply `pyspark` if pyspark is installed with pip)\n",
    "\n",
    "This will open Spark's interactive shell, which will present a welcome message similar to the following:\n",
    "\n",
    "\n",
    "![Spark Shell](https://databricks.com/wp-content/uploads/2014/01/simrshell.png \"Spark Shell\")\n"
   ]
  },
  {
   "cell_type": "markdown",
   "metadata": {},
   "source": [
    "# Let's check it out with a coding Demo :)"
   ]
  },
  {
   "cell_type": "code",
   "execution_count": 1,
   "metadata": {},
   "outputs": [],
   "source": [
    "from pyspark import SparkContext\n",
    "from pyspark.sql import SparkSession"
   ]
  },
  {
   "cell_type": "code",
   "execution_count": 2,
   "metadata": {},
   "outputs": [],
   "source": [
    "spark = SparkSession.builder.getOrCreate()"
   ]
  },
  {
   "cell_type": "code",
   "execution_count": 4,
   "metadata": {},
   "outputs": [],
   "source": [
    "textFile = spark.read.text(\"HMP_Dataset/README.txt\")"
   ]
  },
  {
   "cell_type": "code",
   "execution_count": 5,
   "metadata": {},
   "outputs": [
    {
     "data": {
      "text/plain": [
       "73"
      ]
     },
     "execution_count": 5,
     "metadata": {},
     "output_type": "execute_result"
    }
   ],
   "source": [
    "textFile.count()  # Number of rows in this DataFrame"
   ]
  },
  {
   "cell_type": "code",
   "execution_count": 6,
   "metadata": {},
   "outputs": [
    {
     "data": {
      "text/plain": [
       "Row(value='Public Dataset of Accelerometer Data for Human Motion Primitives Detection')"
      ]
     },
     "execution_count": 6,
     "metadata": {},
     "output_type": "execute_result"
    }
   ],
   "source": [
    "textFile.first()  # First row in this DataFrame"
   ]
  },
  {
   "cell_type": "code",
   "execution_count": 7,
   "metadata": {},
   "outputs": [],
   "source": [
    "linesWithMotion = textFile.filter(textFile.value.contains(\"Motion\"))"
   ]
  },
  {
   "cell_type": "code",
   "execution_count": 8,
   "metadata": {},
   "outputs": [
    {
     "data": {
      "text/plain": [
       "4"
      ]
     },
     "execution_count": 8,
     "metadata": {},
     "output_type": "execute_result"
    }
   ],
   "source": [
    "linesWithMotion.count() # How many lines contain \"Motion\""
   ]
  },
  {
   "cell_type": "code",
   "execution_count": 9,
   "metadata": {},
   "outputs": [
    {
     "data": {
      "text/plain": [
       "[Row(value='Public Dataset of Accelerometer Data for Human Motion Primitives Detection'),\n",
       " Row(value='The Public Dataset of Accelerometer Data for Human Motion Primitives Detection is a public collection of labelled accelerometer data recordings to be used for the creation and validation of acceleration models of human motion primitives.'),\n",
       " Row(value='A description of the Human Motion Primitives detection system that we have designed to work with the provided dataset can be found at:'),\n",
       " Row(value='The authors allow the users of the Public Dataset of Accelerometer Data for Human Motion Primitives Detection to use and modify it for their own research. Any commercial application, redistribution, etc... has to be arranged between users and authors individually.')]"
      ]
     },
     "execution_count": 9,
     "metadata": {},
     "output_type": "execute_result"
    }
   ],
   "source": [
    "linesWithMotion.collect()"
   ]
  },
  {
   "cell_type": "code",
   "execution_count": 10,
   "metadata": {},
   "outputs": [
    {
     "data": {
      "text/plain": [
       "[Row(value='Public Dataset of Accelerometer Data for Human Motion Primitives Detection')]"
      ]
     },
     "execution_count": 10,
     "metadata": {},
     "output_type": "execute_result"
    }
   ],
   "source": [
    "linesWithMotion.take(1)"
   ]
  },
  {
   "cell_type": "markdown",
   "metadata": {},
   "source": [
    "## Quick Look at Dataset Operations"
   ]
  },
  {
   "cell_type": "code",
   "execution_count": 11,
   "metadata": {},
   "outputs": [],
   "source": [
    "from pyspark.sql.functions import *"
   ]
  },
  {
   "cell_type": "markdown",
   "metadata": {},
   "source": [
    "Let's make use of the helpful package called `functions` within the `sql` package. This will provide a lot of convenient functions for DataFrame exploration, manipulation, etc. \n",
    "\n",
    "E.g., let's split the text in `textFile` by row and map each row to an integer value (i.e., the number of words in the row); then `agg` is called to find the largest word count."
   ]
  },
  {
   "cell_type": "code",
   "execution_count": 12,
   "metadata": {},
   "outputs": [
    {
     "data": {
      "text/plain": [
       "[Row(max(numWords)=44)]"
      ]
     },
     "execution_count": 12,
     "metadata": {},
     "output_type": "execute_result"
    }
   ],
   "source": [
    "textFile.select(size(split(textFile.value, \"\\s+\")).name(\"numWords\")).agg(max(col(\"numWords\"))).collect()"
   ]
  },
  {
   "cell_type": "markdown",
   "metadata": {},
   "source": [
    "One common data flow pattern is MapReduce, as popularized by Hadoop. Spark can implement MapReduce flows easily:"
   ]
  },
  {
   "cell_type": "code",
   "execution_count": 13,
   "metadata": {},
   "outputs": [],
   "source": [
    "wordCounts = textFile.select(explode(split(textFile.value, \"\\s+\")).alias(\"word\")).groupBy(\"word\").count()"
   ]
  },
  {
   "cell_type": "markdown",
   "metadata": {},
   "source": [
    "Above, we use the `explode` function in `select`, to transfrom a Dataset of lines to a Dataset of words, and then combine `groupBy` and `count` to compute the per-word counts in the file as a DataFrame of 2 columns: “word” and “count”. To collect the word counts in our shell, we can call `collect`:"
   ]
  },
  {
   "cell_type": "code",
   "execution_count": 14,
   "metadata": {},
   "outputs": [
    {
     "data": {
      "text/plain": [
       "[Row(word='installation.', count=1),\n",
       " Row(word='hope', count=1),\n",
       " Row(word='If', count=1),\n",
       " Row(word='used', count=1),\n",
       " Row(word='documentation', count=2),\n",
       " Row(word='dept.', count=3),\n",
       " Row(word='motion', count=3),\n",
       " Row(word='Mastrogiovanni,', count=2),\n",
       " Row(word='Data', count=3),\n",
       " Row(word='implied', count=1),\n",
       " Row(word='within', count=1),\n",
       " Row(word='Science', count=1),\n",
       " Row(word='----------', count=1),\n",
       " Row(word='acceleration', count=2),\n",
       " Row(word='that,', count=1),\n",
       " Row(word='Bruno', count=1),\n",
       " Row(word='not', count=1),\n",
       " Row(word='will', count=2),\n",
       " Row(word='pp.', count=2),\n",
       " Row(word='recognition:', count=1),\n",
       " Row(word='code', count=1),\n",
       " Row(word='Antonio', count=1),\n",
       " Row(word='Engineering', count=1),\n",
       " Row(word='Fulvio', count=1),\n",
       " Row(word='based', count=1),\n",
       " Row(word='you', count=1),\n",
       " Row(word='new', count=1),\n",
       " Row(word='PARTICULAR', count=1),\n",
       " Row(word='Public', count=3),\n",
       " Row(word='own', count=1),\n",
       " Row(word='more', count=1),\n",
       " Row(word='collection', count=1),\n",
       " Row(word='(2012)', count=1),\n",
       " Row(word='3.', count=1),\n",
       " Row(word='allow', count=3),\n",
       " Row(word='Zaccaria,', count=2),\n",
       " Row(word='commercial', count=1),\n",
       " Row(word='can', count=2),\n",
       " Row(word='visualization', count=1),\n",
       " Row(word='Released', count=1),\n",
       " Row(word='their', count=1),\n",
       " Row(word='for', count=9),\n",
       " Row(word='description', count=2),\n",
       " Row(word='system', count=1),\n",
       " Row(word='Up-to-date', count=1),\n",
       " Row(word='\"displayTrial.m\"', count=1),\n",
       " Row(word='etc...', count=1),\n",
       " Row(word='warranty', count=1),\n",
       " Row(word='please', count=2),\n",
       " Row(word='data.', count=2),\n",
       " Row(word='example', count=1),\n",
       " Row(word='primitives.', count=1),\n",
       " Row(word='in', count=4),\n",
       " Row(word='(ICRA),', count=1),\n",
       " Row(word='testbenches', count=1),\n",
       " Row(word='Vernazza,', count=2),\n",
       " Row(word='Detailed', count=1),\n",
       " Row(word='human', count=3),\n",
       " Row(word='with', count=3),\n",
       " Row(word='MANUAL.TXT.', count=1),\n",
       " Row(word='Version:', count=1),\n",
       " Row(word='modify', count=1),\n",
       " Row(word='R2008a.', count=1),\n",
       " Row(word='contacts', count=1),\n",
       " Row(word='be', count=6),\n",
       " Row(word='reliable', count=1),\n",
       " Row(word='comparison', count=1),\n",
       " Row(word='In:', count=2),\n",
       " Row(word='Analysis', count=1),\n",
       " Row(word='Licensing', count=1),\n",
       " Row(word='distributed', count=1),\n",
       " Row(word='on:', count=1),\n",
       " Row(word='db,', count=1),\n",
       " Row(word='T.,', count=2),\n",
       " Row(word='research.', count=1),\n",
       " Row(word='FITNESS', count=1),\n",
       " Row(word='contact', count=1),\n",
       " Row(word='(Italy)', count=3),\n",
       " Row(word='adoption', count=1),\n",
       " Row(word='authors.', count=1),\n",
       " Row(word='Barbara', count=1),\n",
       " Row(word='\"displayModel.m\"', count=1),\n",
       " Row(word='updates', count=1),\n",
       " Row(word='Motion', count=4),\n",
       " Row(word='modelling', count=1),\n",
       " Row(word='information,', count=1),\n",
       " Row(word='Universit�', count=3),\n",
       " Row(word='it?', count=1),\n",
       " Row(word='at:', count=1),\n",
       " Row(word='is', count=5),\n",
       " Row(word='between', count=2),\n",
       " Row(word='on', count=3),\n",
       " Row(word='displayTrial', count=1),\n",
       " Row(word='but', count=1),\n",
       " Row(word='WARRANTY,', count=1),\n",
       " Row(word='-------------------', count=1),\n",
       " Row(word='Installation', count=1),\n",
       " Row(word='db', count=1),\n",
       " Row(word='labelled', count=1),\n",
       " Row(word='different', count=1),\n",
       " Row(word='tested', count=1),\n",
       " Row(word='use', count=1),\n",
       " Row(word='recognition', count=1),\n",
       " Row(word='any', count=1),\n",
       " Row(word='approach.', count=1),\n",
       " Row(word='dataset', count=4),\n",
       " Row(word='designed', count=1),\n",
       " Row(word='[BRUNO12]', count=1),\n",
       " Row(word='data', count=1),\n",
       " Row(word='it', count=2),\n",
       " Row(word='its', count=1),\n",
       " Row(word='Sgorbissa', count=1),\n",
       " Row(word='public', count=2),\n",
       " Row(word='does', count=1),\n",
       " Row(word='Laboratorium,', count=3),\n",
       " Row(word='have', count=2),\n",
       " Row(word='-', count=5),\n",
       " Row(word='developed', count=1),\n",
       " Row(word='accelerometer', count=2),\n",
       " Row(word='B.,', count=2),\n",
       " Row(word='5.', count=1),\n",
       " Row(word='releases,', count=1),\n",
       " Row(word='A', count=4),\n",
       " Row(word='MATLAB', count=4),\n",
       " Row(word='--------------------------------------------------------------------------', count=1),\n",
       " Row(word='MERCHANTABILITY', count=1),\n",
       " Row(word='file', count=2),\n",
       " Row(word='the', count=17),\n",
       " Row(word='similar', count=1),\n",
       " Row(word='Version', count=1),\n",
       " Row(word='Bruno,', count=2),\n",
       " Row(word='(2013)', count=1),\n",
       " Row(word='----------------', count=1),\n",
       " Row(word='want', count=1),\n",
       " Row(word='write', count=1),\n",
       " Row(word='detection', count=2),\n",
       " Row(word='IEEE', count=2),\n",
       " Row(word='Dataset', count=3),\n",
       " Row(word='-----------------------', count=1),\n",
       " Row(word='1602--1607', count=1),\n",
       " Row(word='algorithms', count=2),\n",
       " Row(word='displayModel', count=1),\n",
       " Row(word='156--161', count=1),\n",
       " Row(word='di', count=3),\n",
       " Row(word='Genova', count=3),\n",
       " Row(word='solutions.', count=1),\n",
       " Row(word='work', count=1),\n",
       " Row(word='further', count=2),\n",
       " Row(word='Accelerometer', count=3),\n",
       " Row(word='--------------', count=1),\n",
       " Row(word='PURPOSE.', count=1),\n",
       " Row(word='vision', count=1),\n",
       " Row(word='provided', count=6),\n",
       " Row(word='application,', count=1),\n",
       " Row(word='and', count=12),\n",
       " Row(word='authors', count=2),\n",
       " Row(word='individually.', count=1),\n",
       " Row(word='behavior', count=1),\n",
       " Row(word='been', count=1),\n",
       " Row(word='approaches', count=1),\n",
       " Row(word='accurate', count=1),\n",
       " Row(word='(CASE),', count=1),\n",
       " Row(word='creation', count=1),\n",
       " Row(word='better', count=1),\n",
       " Row(word='Automation', count=2),\n",
       " Row(word='ANY', count=1),\n",
       " Row(word='contribute', count=1),\n",
       " Row(word='of', count=14),\n",
       " Row(word='informed', count=1),\n",
       " Row(word='1', count=1),\n",
       " Row(word='F.,', count=2),\n",
       " Row(word='validation', count=1),\n",
       " Row(word='What', count=1),\n",
       " Row(word='help', count=2),\n",
       " Row(word='fulvio.mastrogiovanni@unige.it', count=1),\n",
       " Row(word='The', count=4),\n",
       " Row(word='computer', count=1),\n",
       " Row(word='R.:', count=2),\n",
       " Row(word='Conf', count=2),\n",
       " Row(word='common', count=1),\n",
       " Row(word='usage', count=2),\n",
       " Row(word='including', count=1),\n",
       " Row(word='Any', count=1),\n",
       " Row(word='found', count=1),\n",
       " Row(word='useful,', count=1),\n",
       " Row(word='users', count=2),\n",
       " Row(word='Primitives', count=4),\n",
       " Row(word='lead', count=1),\n",
       " Row(word='development', count=2),\n",
       " Row(word='Robotics', count=1),\n",
       " Row(word='commands:', count=1),\n",
       " Row(word='Authors', count=1),\n",
       " Row(word='degli', count=3),\n",
       " Row(word='MANUAL.TXT', count=1),\n",
       " Row(word='accessed', count=1),\n",
       " Row(word='Detection', count=3),\n",
       " Row(word='that', count=2),\n",
       " Row(word='For', count=1),\n",
       " Row(word='&', count=1),\n",
       " Row(word='This', count=2),\n",
       " Row(word='2.', count=1),\n",
       " Row(word='antonio.sgorbissa@unige.it', count=1),\n",
       " Row(word='barbara.bruno@unige.it', count=1),\n",
       " Row(word='Mastrogiovanni', count=1),\n",
       " Row(word='a', count=3),\n",
       " Row(word='Sgorbissa,', count=2),\n",
       " Row(word='to:', count=1),\n",
       " Row(word='release', count=1),\n",
       " Row(word='DIBRIS', count=3),\n",
       " Row(word='', count=40),\n",
       " Row(word='Documentation', count=1),\n",
       " Row(word='this', count=1),\n",
       " Row(word='scripts', count=3),\n",
       " Row(word='------------', count=1),\n",
       " Row(word='A.,', count=2),\n",
       " Row(word='recordings', count=1),\n",
       " Row(word='arranged', count=1),\n",
       " Row(word='datasets,', count=1),\n",
       " Row(word='6.', count=1),\n",
       " Row(word='1.', count=1),\n",
       " Row(word='about', count=3),\n",
       " Row(word='[BRUNO13]', count=1),\n",
       " Row(word='FOR', count=1),\n",
       " Row(word='information', count=1),\n",
       " Row(word='has', count=1),\n",
       " Row(word='11/02/2014', count=1),\n",
       " Row(word='environment', count=1),\n",
       " Row(word='Human', count=5),\n",
       " Row(word='ultimately', count=1),\n",
       " Row(word='recorded', count=1),\n",
       " Row(word='believe', count=1),\n",
       " Row(word='4.', count=1),\n",
       " Row(word='require', count=1),\n",
       " Row(word='license', count=1),\n",
       " Row(word='Int', count=2),\n",
       " Row(word='or', count=2),\n",
       " Row(word='to', count=8),\n",
       " Row(word='obtain', count=1),\n",
       " Row(word='WITHOUT', count=1),\n",
       " Row(word='primitives', count=1),\n",
       " Row(word='Studi', count=3),\n",
       " Row(word='models', count=1),\n",
       " Row(word='we', count=1),\n",
       " Row(word='We', count=1),\n",
       " Row(word='computational', count=1),\n",
       " Row(word='redistribution,', count=1),\n",
       " Row(word='fashion', count=1)]"
      ]
     },
     "execution_count": 14,
     "metadata": {},
     "output_type": "execute_result"
    }
   ],
   "source": [
    "wordCounts.collect()"
   ]
  },
  {
   "cell_type": "markdown",
   "metadata": {},
   "source": [
    "## Caching\n",
    "\n",
    "`.cache()` can be applied to a Dataset to pull it into a cluster-wide in-memory cache, which can be very useful when accessing a dataset repeatedly"
   ]
  },
  {
   "cell_type": "markdown",
   "metadata": {},
   "source": [
    "## Self-Contained Applications\n",
    "\n",
    "Let's write a simple application to count the number of lines containing 'a' and the number of lines containing 'b' in a text file. \n",
    "\n",
    "- Use a `Spark Session` to create datasets (as we did in this Jupyter notebook) \n",
    "- Use this command to run (for Python): \n",
    "\n",
    "`YOUR_SPARK_HOME/bin/spark-submit \\\n",
    "  --master local[4] \\\n",
    "  SimpleApp.py`"
   ]
  }
 ],
 "metadata": {
  "kernelspec": {
   "display_name": "Python 3",
   "language": "python",
   "name": "python3"
  },
  "language_info": {
   "codemirror_mode": {
    "name": "ipython",
    "version": 3
   },
   "file_extension": ".py",
   "mimetype": "text/x-python",
   "name": "python",
   "nbconvert_exporter": "python",
   "pygments_lexer": "ipython3",
   "version": "3.6.4"
  }
 },
 "nbformat": 4,
 "nbformat_minor": 2
}
