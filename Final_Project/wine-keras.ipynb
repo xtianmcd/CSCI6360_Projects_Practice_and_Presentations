{
 "cells": [
  {
   "cell_type": "markdown",
   "metadata": {},
   "source": [
    "## Using Keras to run the CASP dataset\n",
    "\n",
    "In this notebook, we show how to use Keras to the run regression test on the CASP dataset. I will introduce 4 different methods and go through each of them by grid search on 4 different combinations of parameters. \n",
    "\n",
    "### First, we load the dependencies. "
   ]
  },
  {
   "cell_type": "code",
   "execution_count": 1,
   "metadata": {},
   "outputs": [
    {
     "name": "stderr",
     "output_type": "stream",
     "text": [
      "Using TensorFlow backend.\n"
     ]
    }
   ],
   "source": [
    "import pandas as pd\n",
    "import tensorflow as tf\n",
    "from keras import backend as K\n",
    "from keras.models import Sequential\n",
    "from keras.layers import Dense\n",
    "import keras\n"
   ]
  },
  {
   "cell_type": "markdown",
   "metadata": {},
   "source": [
    "### Test GPU support"
   ]
  },
  {
   "cell_type": "code",
   "execution_count": 2,
   "metadata": {},
   "outputs": [
    {
     "data": {
      "text/plain": [
       "'/device:GPU:0'"
      ]
     },
     "execution_count": 2,
     "metadata": {},
     "output_type": "execute_result"
    }
   ],
   "source": [
    "tf.test.gpu_device_name()"
   ]
  },
  {
   "cell_type": "markdown",
   "metadata": {},
   "source": [
    "## Load in dataset using Pandas\n",
    "\n",
    "We use `read_csv` to the read in and also select the X and y matrices. "
   ]
  },
  {
   "cell_type": "code",
   "execution_count": 4,
   "metadata": {},
   "outputs": [],
   "source": [
    "data = pd.read_csv('winequality-red.csv', header=0)"
   ]
  },
  {
   "cell_type": "code",
   "execution_count": 6,
   "metadata": {},
   "outputs": [],
   "source": [
    "# select X and y matrices.\n",
    "y = data['quality'].as_matrix()\n",
    "X = data.drop(labels='quality', axis=1).as_matrix()"
   ]
  },
  {
   "cell_type": "code",
   "execution_count": 7,
   "metadata": {},
   "outputs": [
    {
     "data": {
      "text/plain": [
       "((1599,), (1599, 11))"
      ]
     },
     "execution_count": 7,
     "metadata": {},
     "output_type": "execute_result"
    }
   ],
   "source": [
    "# check the shape of X and y\n",
    "y.shape, X.shape"
   ]
  },
  {
   "cell_type": "markdown",
   "metadata": {},
   "source": [
    "## Start training and parameter selection\n",
    "\n",
    "We the use the API from `scikit-learn` to conduct a grid search on parameters. (Here I use 5-fold cross-validation to save training time.) We also need `KerasRegressor` to use sklearn together with Keras"
   ]
  },
  {
   "cell_type": "code",
   "execution_count": null,
   "metadata": {},
   "outputs": [],
   "source": [
    "% time\n",
    "from sklearn.model_selection import GridSearchCV\n",
    "from keras.wrappers.scikit_learn import KerasRegressor\n",
    "from sklearn.model_selection import cross_val_score, StratifiedKFold, train_test_split"
   ]
  },
  {
   "cell_type": "markdown",
   "metadata": {},
   "source": [
    "## 5-fold cross-validation \n",
    "\n",
    "Here `new2_advanced_hidden_model` is the name for my best model. "
   ]
  },
  {
   "cell_type": "code",
   "execution_count": 13,
   "metadata": {},
   "outputs": [
    {
     "name": "stdout",
     "output_type": "stream",
     "text": [
      "CPU times: user 0 ns, sys: 0 ns, total: 0 ns\n",
      "Wall time: 10.7 µs\n"
     ]
    }
   ],
   "source": [
    "% time\n",
    "\n",
    "def new2_advanced_hidden_model():\n",
    "    model = Sequential()\n",
    "    model.add(Dense(12, activation='relu', input_dim=11))\n",
    "    model.add(Dense(18, activation='relu', input_dim=12))\n",
    "    model.add(Dense(13, activation='relu', input_dim=18))\n",
    "    model.add(Dense(10, activation='relu', input_dim=13))\n",
    "    model.add(Dense(7, activation='relu', input_dim=10))\n",
    "    model.add(Dense(1, activation='linear', input_dim=7))\n",
    "#     model.add(Dense(1, activation='linear'))\n",
    "    model.compile(loss='mean_squared_error', optimizer='adam')\n",
    "    return model"
   ]
  },
  {
   "cell_type": "code",
   "execution_count": 14,
   "metadata": {},
   "outputs": [],
   "source": [
    "## Here are the params for grid search\n",
    "parameters = {\n",
    "    'epochs' : [800, 700],\n",
    "    'batch_size' : [150, 140], # The larger the batch size, the faster the model will run.\n",
    "        'verbose' : [0] \n",
    "}\n"
   ]
  },
  {
   "cell_type": "code",
   "execution_count": 15,
   "metadata": {},
   "outputs": [
    {
     "data": {
      "text/plain": [
       "GridSearchCV(cv=5, error_score='raise',\n",
       "       estimator=<keras.wrappers.scikit_learn.KerasRegressor object at 0x7f9146cae390>,\n",
       "       fit_params=None, iid=True, n_jobs=1,\n",
       "       param_grid={'epochs': [800, 700], 'batch_size': [150, 140], 'verbose': [0]},\n",
       "       pre_dispatch='2*n_jobs', refit=True, return_train_score=True,\n",
       "       scoring='neg_mean_absolute_error', verbose=0)"
      ]
     },
     "execution_count": 15,
     "metadata": {},
     "output_type": "execute_result"
    }
   ],
   "source": [
    "# fit the network\n",
    "reg_hidden_new2 = GridSearchCV(KerasRegressor(build_fn=new2_advanced_hidden_model), parameters, cv = 5, scoring = 'neg_mean_absolute_error', return_train_score = True)\n",
    "reg_hidden_new2.fit(X, y)"
   ]
  },
  {
   "cell_type": "code",
   "execution_count": 16,
   "metadata": {},
   "outputs": [
    {
     "data": {
      "text/html": [
       "<div>\n",
       "<style scoped>\n",
       "    .dataframe tbody tr th:only-of-type {\n",
       "        vertical-align: middle;\n",
       "    }\n",
       "\n",
       "    .dataframe tbody tr th {\n",
       "        vertical-align: top;\n",
       "    }\n",
       "\n",
       "    .dataframe thead th {\n",
       "        text-align: right;\n",
       "    }\n",
       "</style>\n",
       "<table border=\"1\" class=\"dataframe\">\n",
       "  <thead>\n",
       "    <tr style=\"text-align: right;\">\n",
       "      <th></th>\n",
       "      <th>mean_fit_time</th>\n",
       "      <th>mean_score_time</th>\n",
       "      <th>mean_test_score</th>\n",
       "      <th>mean_train_score</th>\n",
       "      <th>param_batch_size</th>\n",
       "      <th>param_epochs</th>\n",
       "      <th>param_verbose</th>\n",
       "      <th>params</th>\n",
       "      <th>rank_test_score</th>\n",
       "      <th>split0_test_score</th>\n",
       "      <th>...</th>\n",
       "      <th>split2_test_score</th>\n",
       "      <th>split2_train_score</th>\n",
       "      <th>split3_test_score</th>\n",
       "      <th>split3_train_score</th>\n",
       "      <th>split4_test_score</th>\n",
       "      <th>split4_train_score</th>\n",
       "      <th>std_fit_time</th>\n",
       "      <th>std_score_time</th>\n",
       "      <th>std_test_score</th>\n",
       "      <th>std_train_score</th>\n",
       "    </tr>\n",
       "  </thead>\n",
       "  <tbody>\n",
       "    <tr>\n",
       "      <th>0</th>\n",
       "      <td>25.718922</td>\n",
       "      <td>0.068409</td>\n",
       "      <td>-0.523236</td>\n",
       "      <td>-0.475656</td>\n",
       "      <td>150</td>\n",
       "      <td>800</td>\n",
       "      <td>0</td>\n",
       "      <td>{'batch_size': 150, 'epochs': 800, 'verbose': 0}</td>\n",
       "      <td>2</td>\n",
       "      <td>-0.504227</td>\n",
       "      <td>...</td>\n",
       "      <td>-0.501404</td>\n",
       "      <td>-0.489269</td>\n",
       "      <td>-0.532049</td>\n",
       "      <td>-0.467236</td>\n",
       "      <td>-0.498269</td>\n",
       "      <td>-0.478596</td>\n",
       "      <td>0.691282</td>\n",
       "      <td>0.032084</td>\n",
       "      <td>0.030918</td>\n",
       "      <td>0.007721</td>\n",
       "    </tr>\n",
       "    <tr>\n",
       "      <th>1</th>\n",
       "      <td>23.867300</td>\n",
       "      <td>0.139691</td>\n",
       "      <td>-0.527965</td>\n",
       "      <td>-0.474639</td>\n",
       "      <td>150</td>\n",
       "      <td>700</td>\n",
       "      <td>0</td>\n",
       "      <td>{'batch_size': 150, 'epochs': 700, 'verbose': 0}</td>\n",
       "      <td>3</td>\n",
       "      <td>-0.507181</td>\n",
       "      <td>...</td>\n",
       "      <td>-0.505725</td>\n",
       "      <td>-0.479929</td>\n",
       "      <td>-0.566245</td>\n",
       "      <td>-0.444288</td>\n",
       "      <td>-0.502097</td>\n",
       "      <td>-0.487652</td>\n",
       "      <td>0.623886</td>\n",
       "      <td>0.033596</td>\n",
       "      <td>0.028262</td>\n",
       "      <td>0.015629</td>\n",
       "    </tr>\n",
       "    <tr>\n",
       "      <th>2</th>\n",
       "      <td>31.147727</td>\n",
       "      <td>0.214613</td>\n",
       "      <td>-0.518686</td>\n",
       "      <td>-0.480870</td>\n",
       "      <td>140</td>\n",
       "      <td>800</td>\n",
       "      <td>0</td>\n",
       "      <td>{'batch_size': 140, 'epochs': 800, 'verbose': 0}</td>\n",
       "      <td>1</td>\n",
       "      <td>-0.494653</td>\n",
       "      <td>...</td>\n",
       "      <td>-0.505225</td>\n",
       "      <td>-0.476792</td>\n",
       "      <td>-0.553071</td>\n",
       "      <td>-0.477485</td>\n",
       "      <td>-0.494285</td>\n",
       "      <td>-0.482516</td>\n",
       "      <td>0.729665</td>\n",
       "      <td>0.024810</td>\n",
       "      <td>0.025649</td>\n",
       "      <td>0.005668</td>\n",
       "    </tr>\n",
       "    <tr>\n",
       "      <th>3</th>\n",
       "      <td>28.989724</td>\n",
       "      <td>0.284276</td>\n",
       "      <td>-0.528049</td>\n",
       "      <td>-0.487590</td>\n",
       "      <td>140</td>\n",
       "      <td>700</td>\n",
       "      <td>0</td>\n",
       "      <td>{'batch_size': 140, 'epochs': 700, 'verbose': 0}</td>\n",
       "      <td>4</td>\n",
       "      <td>-0.515618</td>\n",
       "      <td>...</td>\n",
       "      <td>-0.519418</td>\n",
       "      <td>-0.504512</td>\n",
       "      <td>-0.560229</td>\n",
       "      <td>-0.474307</td>\n",
       "      <td>-0.509923</td>\n",
       "      <td>-0.496622</td>\n",
       "      <td>0.660966</td>\n",
       "      <td>0.025649</td>\n",
       "      <td>0.018119</td>\n",
       "      <td>0.011552</td>\n",
       "    </tr>\n",
       "  </tbody>\n",
       "</table>\n",
       "<p>4 rows × 23 columns</p>\n",
       "</div>"
      ],
      "text/plain": [
       "   mean_fit_time  mean_score_time  mean_test_score  mean_train_score  \\\n",
       "0      25.718922         0.068409        -0.523236         -0.475656   \n",
       "1      23.867300         0.139691        -0.527965         -0.474639   \n",
       "2      31.147727         0.214613        -0.518686         -0.480870   \n",
       "3      28.989724         0.284276        -0.528049         -0.487590   \n",
       "\n",
       "  param_batch_size param_epochs param_verbose  \\\n",
       "0              150          800             0   \n",
       "1              150          700             0   \n",
       "2              140          800             0   \n",
       "3              140          700             0   \n",
       "\n",
       "                                             params  rank_test_score  \\\n",
       "0  {'batch_size': 150, 'epochs': 800, 'verbose': 0}                2   \n",
       "1  {'batch_size': 150, 'epochs': 700, 'verbose': 0}                3   \n",
       "2  {'batch_size': 140, 'epochs': 800, 'verbose': 0}                1   \n",
       "3  {'batch_size': 140, 'epochs': 700, 'verbose': 0}                4   \n",
       "\n",
       "   split0_test_score       ...         split2_test_score  split2_train_score  \\\n",
       "0          -0.504227       ...                 -0.501404           -0.489269   \n",
       "1          -0.507181       ...                 -0.505725           -0.479929   \n",
       "2          -0.494653       ...                 -0.505225           -0.476792   \n",
       "3          -0.515618       ...                 -0.519418           -0.504512   \n",
       "\n",
       "   split3_test_score  split3_train_score  split4_test_score  \\\n",
       "0          -0.532049           -0.467236          -0.498269   \n",
       "1          -0.566245           -0.444288          -0.502097   \n",
       "2          -0.553071           -0.477485          -0.494285   \n",
       "3          -0.560229           -0.474307          -0.509923   \n",
       "\n",
       "   split4_train_score  std_fit_time  std_score_time  std_test_score  \\\n",
       "0           -0.478596      0.691282        0.032084        0.030918   \n",
       "1           -0.487652      0.623886        0.033596        0.028262   \n",
       "2           -0.482516      0.729665        0.024810        0.025649   \n",
       "3           -0.496622      0.660966        0.025649        0.018119   \n",
       "\n",
       "   std_train_score  \n",
       "0         0.007721  \n",
       "1         0.015629  \n",
       "2         0.005668  \n",
       "3         0.011552  \n",
       "\n",
       "[4 rows x 23 columns]"
      ]
     },
     "execution_count": 16,
     "metadata": {},
     "output_type": "execute_result"
    }
   ],
   "source": [
    "# use pandas to check the cv results\n",
    "pd.DataFrame(reg_hidden_new2.cv_results_)\n"
   ]
  },
  {
   "cell_type": "markdown",
   "metadata": {},
   "source": [
    "## Here are out best scores with best parameters"
   ]
  },
  {
   "cell_type": "code",
   "execution_count": 17,
   "metadata": {},
   "outputs": [
    {
     "data": {
      "text/plain": [
       "(-0.5186856677190747, -0.5186856677190747)"
      ]
     },
     "execution_count": 17,
     "metadata": {},
     "output_type": "execute_result"
    }
   ],
   "source": [
    "reg_hidden_new2.best_score_, reg_hidden_new2.best_score_"
   ]
  },
  {
   "cell_type": "code",
   "execution_count": 19,
   "metadata": {},
   "outputs": [
    {
     "data": {
      "text/plain": [
       "{'batch_size': 140, 'epochs': 800, 'verbose': 0}"
      ]
     },
     "execution_count": 19,
     "metadata": {},
     "output_type": "execute_result"
    }
   ],
   "source": [
    "reg_hidden_new2.best_params_\n"
   ]
  },
  {
   "cell_type": "code",
   "execution_count": null,
   "metadata": {},
   "outputs": [],
   "source": []
  }
 ],
 "metadata": {
  "kernelspec": {
   "display_name": "Python 3",
   "language": "python",
   "name": "python3"
  },
  "language_info": {
   "codemirror_mode": {
    "name": "ipython",
    "version": 3
   },
   "file_extension": ".py",
   "mimetype": "text/x-python",
   "name": "python",
   "nbconvert_exporter": "python",
   "pygments_lexer": "ipython3",
   "version": "3.6.3"
  }
 },
 "nbformat": 4,
 "nbformat_minor": 2
}
