{
 "cells": [
  {
   "cell_type": "markdown",
   "metadata": {},
   "source": [
    "## Calculate Entropy\n",
    "\n",
    "This notebook shows how to calculate entropy in ScalaTion. It includes two examples, one is random variable between 0 and 1 (plot incomplete).\n",
    "The second one is to calculate the entropy on the Tennis Dataset on the feature Humidity."
   ]
  },
  {
   "cell_type": "code",
   "execution_count": 133,
   "metadata": {},
   "outputs": [
    {
     "name": "stdout",
     "output_type": "stream",
     "text": [
      "import scalation.random\n"
     ]
    }
   ],
   "source": [
    "import scalation.random"
   ]
  },
  {
   "cell_type": "code",
   "execution_count": 134,
   "metadata": {},
   "outputs": [
    {
     "name": "stdout",
     "output_type": "stream",
     "text": [
      "import scalation.linalgebra._\n",
      "import scalation.analytics._\n"
     ]
    }
   ],
   "source": [
    "import scalation.linalgebra._\n",
    "import scalation.analytics._"
   ]
  },
  {
   "cell_type": "code",
   "execution_count": 135,
   "metadata": {},
   "outputs": [
    {
     "name": "stdout",
     "output_type": "stream",
     "text": [
      "n: scalation.linalgebra.VectorD = VectorD(0.00000,\t0.00000,\t0.00000,\t0.00000,\t0.00000,\t0.00000,\t0.00000,\t0.00000,\t0.00000,\t0.00000,\t0.00000,\t0.00000,\t0.00000,\t0.00000,\t0.00000,\t0.00000,\t0.00000,\t0.00000,\t0.00000,\t0.00000,\t0.00000,\t0.00000,\t0.00000,\t0.00000,\t0.00000,\t0.00000,\t0.00000,\t0.00000,\t0.00000,\t0.00000,\t0.00000,\t0.00000,\t0.00000,\t0.00000,\t0.00000,\t0.00000,\t0.00000,\t0.00000,\t0.00000,\t0.00000,\t0.00000,\t0.00000,\t0.00000,\t0.00000,\t0.00000,\t0.00000,\t0.00000,\t0.00000,\t0.00000,\t0.00000,\t0.00000,\t0.00000,\t0.00000,\t0.00000,\t0.00000,\t0.00000,\t0.00000,\t0.00000,\t0.00000,\t0.00000,\t0.00000,\t0.00000,\t0.00000,\t0.00000,\t0.00000,\t0.00000,\t0.00000,\t0.00000,\t0.00000,\t0.00000,\t0.00000,\t0.00000,\t0.00000,\t0.00000,\t0.00000,\t0.00000,\t0.00000,\t0.00000,\t0.00000,\t0.00000,\t0.00000,\t0.00000,\t0.00000,\t0.00000,...\n"
     ]
    }
   ],
   "source": [
    "val n = new VectorD(100)"
   ]
  },
  {
   "cell_type": "code",
   "execution_count": 136,
   "metadata": {},
   "outputs": [
    {
     "name": "stdout",
     "output_type": "stream",
     "text": [
      "import scalation.random.Normal\n",
      "import scalation.linalgebra.VectorD\n",
      "import scalation.linalgebra.VectorI\n",
      "import scalation.plot.Plot\n",
      "import scalation.linalgebra\n",
      "\n",
      "normal1: scalation.random.Normal = Normal(0.5,0.1,0)\n",
      "\n"
     ]
    }
   ],
   "source": [
    "import scalation.random.Normal\n",
    "import scalation.linalgebra.VectorD\n",
    "import scalation.linalgebra.VectorI\n",
    "import scalation.plot.Plot\n",
    "import scalation.linalgebra\n",
    "\n",
    "val normal1 = Normal(0.5, 0.1)\n",
    "for (i <- 0 until 100) n(i) = normal1.gen\n",
    "\n"
   ]
  },
  {
   "cell_type": "code",
   "execution_count": 137,
   "metadata": {},
   "outputs": [
    {
     "name": "stdout",
     "output_type": "stream",
     "text": [
      "res121: scalation.linalgebra.VectorD = VectorD(0.957987,\t0.722270,\t0.248809,\t0.595842,\t0.410748,\t0.239073,\t0.508916,\t0.629032,\t0.472306,\t0.292238,\t0.0759015,\t0.691623,\t0.696832,\t0.717191,\t0.645341,\t0.455285,\t0.329206,\t-0.286135,\t1.34205,\t0.508852,\t0.333253,\t0.285805,\t0.428175,\t0.504905,\t0.627306,\t0.250889,\t0.441170,\t0.757034,\t0.643856,\t0.320833,\t0.610660,\t0.289431,\t0.395612,\t0.644069,\t0.430178,\t0.540286,\t0.466501,\t0.494642,\t0.648725,\t-0.213879,\t0.196785,\t0.618334,\t0.188388,\t0.568763,\t0.553411,\t-0.112621,\t-0.00811759,\t0.541195,\t0.617467,\t0.981090,\t0.895776,\t0.450260,\t0.650075,\t0.513149,\t0.265960,\t0.882159,\t0.348942,\t0.870912,\t0.482349,\t0.357953,\t0.316682,\t0.459697,\t0.0739590,\t1.06265,\t0.686905,\t1.03223,\t0.0867269,\t0.941145,\t0.627257,\t0.611999,\t0.485647,\t0.590742,\t0.228394,\t0.386768,\t0.76...\n"
     ]
    }
   ],
   "source": [
    "n"
   ]
  },
  {
   "cell_type": "code",
   "execution_count": 138,
   "metadata": {},
   "outputs": [
    {
     "name": "stdout",
     "output_type": "stream",
     "text": [
      "p: scalation.linalgebra.VectorD = VectorD(0.00000,\t0.00000)\n"
     ]
    }
   ],
   "source": [
    "val p = new VectorD(2)"
   ]
  },
  {
   "cell_type": "code",
   "execution_count": 139,
   "metadata": {},
   "outputs": [],
   "source": [
    "p(0) = 0.357"
   ]
  },
  {
   "cell_type": "code",
   "execution_count": 140,
   "metadata": {},
   "outputs": [],
   "source": [
    "p(1) = 0.643"
   ]
  },
  {
   "cell_type": "code",
   "execution_count": 141,
   "metadata": {},
   "outputs": [
    {
     "name": "stdout",
     "output_type": "stream",
     "text": [
      "res124: scalation.linalgebra.VectorD = VectorD(0.357000,\t0.643000)\n"
     ]
    }
   ],
   "source": [
    "p"
   ]
  },
  {
   "cell_type": "markdown",
   "metadata": {},
   "source": [
    "## This is how to do entropy"
   ]
  },
  {
   "cell_type": "code",
   "execution_count": 142,
   "metadata": {},
   "outputs": [
    {
     "name": "stdout",
     "output_type": "stream",
     "text": [
      "import scalation.math._\n",
      "\n",
      "entropy: Double = 0.9401647521318284\n"
     ]
    }
   ],
   "source": [
    "import scalation.math._\n",
    "\n",
    "val entropy = - p dot p.map(log2(_))"
   ]
  },
  {
   "cell_type": "markdown",
   "metadata": {},
   "source": [
    "## Load the Tennis Dataset"
   ]
  },
  {
   "cell_type": "code",
   "execution_count": 143,
   "metadata": {},
   "outputs": [
    {
     "name": "stdout",
     "output_type": "stream",
     "text": [
      "--\n",
      "\n",
      " 14\n",
      "xy: scalation.linalgebra.MatrixI =\n",
      "\n",
      "MatrixI(2,\t2,\t1,\t0,\t0,\n",
      "\t2,\t2,\t1,\t1,\t0,\n",
      "\t1,\t2,\t1,\t0,\t1,\n",
      "\t0,\t1,\t1,\t0,\t1,\n",
      "\t0,\t0,\t0,\t0,\t1,\n",
      "\t0,\t0,\t0,\t1,\t0,\n",
      "\t1,\t0,\t0,\t1,\t1,\n",
      "\t2,\t1,\t1,\t0,\t0,\n",
      "\t2,\t0,\t0,\t0,\t1,\n",
      "\t0,\t1,\t0,\t0,\t1,\n",
      "\t2,\t1,\t0,\t1,\t1,\n",
      "\t1,\t1,\t1,\t1,\t1,\n",
      "\t1,\t2,\t0,\t0,\t1,\n",
      "\t0,\t1,\t1,\t1,\t0)\n",
      "\n",
      "fn: Array[String] = Array(Outlook, Temp, Humidity, Wind)\n",
      "cn: Array[String] = Array(No, Yes)\n",
      "k: Int = 2\n",
      "\n",
      "x: scalation.linalgebra.MatrixI =\n",
      "\n",
      "MatrixI(2,\t2,\t1,\t0,\n",
      "\t2,\t2,\t1,\t1,\n",
      "\t1,\t2,\t1,\t0,\n",
      "\t0,\t1,\t1,\t0,\n",
      "\t0,\t0,\t0,\t0,\n",
      "\t0,\t0,\t0,\t1,\n",
      "\t1,\t0,\t0,\t1,\n",
      "\t2,\t1,\t1,\t0,\n",
      "\t2,\t0,\t0,\t0,\n",
      "\t0,\t1,\t0,\t0,\n",
      "\t2,\t1,\t0,\t1,\n",
      "\t1,\t1,\t1,\t1,\n",
      "\t1,\t2,\t0,\t0,\n",
      "\t0,\t1,\t1,\t1)\n",
      "y: scalation.linalgebra.VectorI = VectorI(0,\t0,\t1,\t1,\t1,\t0,\t1,\t0,\t1,\t1,\t1,\t1,\t1,\t0)\n"
     ]
    }
   ],
   "source": [
    "// combined data matrix [ x | y ]\n",
    "// dataset ----------------------------------------------------------------\n",
    "// x0: Outlook:     Rain (0),   Overcast (1), Sunny (2)\n",
    "// x1: Temperature: Cold (0),   Mild (1),     Hot (2)\n",
    "// x2: Humidity:    Normal (0), High (1)\n",
    "// x3: Wind:        Weak (0),   Strong (1)\n",
    "// y:  the response/classification decision\n",
    "// variables/features:          x0     x1     x2     x3    y\n",
    "\n",
    "val xy = new MatrixI ((14, 5),  2,     2,     1,     0,    0,      // day  1\n",
    "                                2,     2,     1,     1,    0,      // day  2\n",
    "                                1,     2,     1,     0,    1,      // day  3\n",
    "                                0,     1,     1,     0,    1,      // day  4\n",
    "                                0,     0,     0,     0,    1,      // day  5\n",
    "                                0,     0,     0,     1,    0,      // day  6\n",
    "                                1,     0,     0,     1,    1,      // day  7\n",
    "                                2,     1,     1,     0,    0,      // day  8\n",
    "                                2,     0,     0,     0,    1,      // day  9\n",
    "                                0,     1,     0,     0,    1,      // day 10\n",
    "                                2,     1,     0,     1,    1,      // day 11\n",
    "                                1,     1,     1,     1,    1,      // day 12\n",
    "                                1,     2,     0,     0,    1,      // day 13\n",
    "                                0,     1,     1,     1,    0)      // day 14\n",
    "\n",
    "val fn = Array (\"Outlook\", \"Temp\", \"Humidity\", \"Wind\")             // feature names\n",
    "val cn = Array (\"No\", \"Yes\")                                       // class names for y\n",
    "val k  = cn.size                                                   // number of classes\n",
    "\n",
    "val x = xy.sliceCol (0, 4)      // columns 0, 1, 2, 3\n",
    "val y = xy.col (4)              // column 4"
   ]
  },
  {
   "cell_type": "markdown",
   "metadata": {},
   "source": [
    "## Slice the Humidity Column"
   ]
  },
  {
   "cell_type": "code",
   "execution_count": 144,
   "metadata": {},
   "outputs": [
    {
     "name": "stdout",
     "output_type": "stream",
     "text": [
      "x2: scalation.linalgebra.VectorI = VectorI(1,\t1,\t1,\t1,\t0,\t0,\t0,\t1,\t0,\t0,\t0,\t1,\t0,\t1)\n"
     ]
    }
   ],
   "source": [
    "val x2 = x.col(2)"
   ]
  },
  {
   "cell_type": "markdown",
   "metadata": {},
   "source": [
    "## Calculate -, + for each of the two scenarios"
   ]
  },
  {
   "cell_type": "code",
   "execution_count": 145,
   "metadata": {},
   "outputs": [
    {
     "name": "stdout",
     "output_type": "stream",
     "text": [
      "zyz: Int = 0\n",
      "zyo: Int = 0\n",
      "oyz: Int = 0\n",
      "oyo: Int = 0\n",
      "\n"
     ]
    }
   ],
   "source": [
    "var zyz = 0\n",
    "var zyo = 0\n",
    "var oyz = 0\n",
    "var oyo = 0\n",
    "\n",
    "for (i <- 0 until 14) {if (x2(i) == 0) {if (y(i) == 0) {zyz += 1} else if (y(i) == 1) {zyo += 1}}}\n",
    "for (i <- 0 until 14) {if (x2(i) == 1) {if (y(i) == 0) {oyz += 1} else if (y(i) == 1) {oyo += 1}}}\n"
   ]
  },
  {
   "cell_type": "markdown",
   "metadata": {},
   "source": [
    "## Check each of the four values and see whether they are good"
   ]
  },
  {
   "cell_type": "code",
   "execution_count": 146,
   "metadata": {},
   "outputs": [
    {
     "name": "stdout",
     "output_type": "stream",
     "text": [
      "res127: Int = 1\n"
     ]
    }
   ],
   "source": [
    "zyz"
   ]
  },
  {
   "cell_type": "code",
   "execution_count": 147,
   "metadata": {},
   "outputs": [
    {
     "name": "stdout",
     "output_type": "stream",
     "text": [
      "res128: Int = 6\n"
     ]
    }
   ],
   "source": [
    "zyo"
   ]
  },
  {
   "cell_type": "code",
   "execution_count": 148,
   "metadata": {},
   "outputs": [
    {
     "name": "stdout",
     "output_type": "stream",
     "text": [
      "res129: Int = 4\n"
     ]
    }
   ],
   "source": [
    "oyz"
   ]
  },
  {
   "cell_type": "code",
   "execution_count": 118,
   "metadata": {},
   "outputs": [
    {
     "name": "stdout",
     "output_type": "stream",
     "text": [
      "res110: Int = 3\n"
     ]
    }
   ],
   "source": [
    "oyo"
   ]
  },
  {
   "cell_type": "markdown",
   "metadata": {},
   "source": [
    "## Change the value to Double so we can do division"
   ]
  },
  {
   "cell_type": "code",
   "execution_count": 149,
   "metadata": {},
   "outputs": [
    {
     "name": "stdout",
     "output_type": "stream",
     "text": [
      "res130: Double = 1.0\n",
      "res131: Double = 6.0\n",
      "res132: Double = 4.0\n",
      "res133: Double = 3.0\n"
     ]
    }
   ],
   "source": [
    "zyz.toDouble\n",
    "zyo.toDouble\n",
    "oyz.toDouble\n",
    "oyo.toDouble"
   ]
  },
  {
   "cell_type": "code",
   "execution_count": 150,
   "metadata": {},
   "outputs": [
    {
     "name": "stdout",
     "output_type": "stream",
     "text": [
      "zyzd: Double = 0.0\n",
      "zyod: Double = 0.0\n",
      "oyzd: Double = 0.0\n",
      "oyod: Double = 0.0\n"
     ]
    }
   ],
   "source": [
    "var zyzd = 0.0\n",
    "var zyod = 0.0\n",
    "var oyzd = 0.0\n",
    "var oyod = 0.0"
   ]
  },
  {
   "cell_type": "code",
   "execution_count": 151,
   "metadata": {},
   "outputs": [
    {
     "name": "stdout",
     "output_type": "stream",
     "text": [
      "zyzd: Double = 0.14285714285714285\n",
      "zyod: Double = 0.8571428571428571\n",
      "oyzd: Double = 0.5714285714285714\n",
      "oyod: Double = 0.42857142857142855\n"
     ]
    }
   ],
   "source": [
    "var zyzd = zyz/7.0\n",
    "var zyod = zyo/7.0\n",
    "var oyzd = oyz/7.0\n",
    "var oyod = oyo/7.0"
   ]
  },
  {
   "cell_type": "markdown",
   "metadata": {},
   "source": [
    "## Initiate two new vectors to get average entropy"
   ]
  },
  {
   "cell_type": "code",
   "execution_count": 152,
   "metadata": {},
   "outputs": [
    {
     "name": "stdout",
     "output_type": "stream",
     "text": [
      "p: scalation.linalgebra.VectorD = VectorD(0.00000,\t0.00000)\n",
      "q: scalation.linalgebra.VectorD = VectorD(0.00000,\t0.00000)\n"
     ]
    }
   ],
   "source": [
    "val p = new VectorD(2)\n",
    "val q = new VectorD(2)"
   ]
  },
  {
   "cell_type": "markdown",
   "metadata": {},
   "source": [
    "## Reiterate these values again for calculation"
   ]
  },
  {
   "cell_type": "code",
   "execution_count": 153,
   "metadata": {},
   "outputs": [],
   "source": [
    "p(0) = 0.14285714285714285\n",
    "p(1) = 0.8571428571428571\n",
    "q(0) = 0.5714285714285714\n",
    "q(1) = 0.42857142857142855"
   ]
  },
  {
   "cell_type": "code",
   "execution_count": 154,
   "metadata": {},
   "outputs": [
    {
     "name": "stdout",
     "output_type": "stream",
     "text": [
      "res138: scalation.linalgebra.VectorD = VectorD(0.142857,\t0.857143)\n"
     ]
    }
   ],
   "source": [
    "p"
   ]
  },
  {
   "cell_type": "code",
   "execution_count": 155,
   "metadata": {},
   "outputs": [
    {
     "name": "stdout",
     "output_type": "stream",
     "text": [
      "entropyzy: Double = 0.5916727785823275\n"
     ]
    }
   ],
   "source": [
    "val entropyzy = - p dot p.map(log2(_))"
   ]
  },
  {
   "cell_type": "code",
   "execution_count": 156,
   "metadata": {},
   "outputs": [
    {
     "name": "stdout",
     "output_type": "stream",
     "text": [
      "entropyoy: Double = 0.9852281360342516\n"
     ]
    }
   ],
   "source": [
    "val entropyoy = - q dot q.map(log2(_))"
   ]
  },
  {
   "cell_type": "markdown",
   "metadata": {},
   "source": [
    "## Get the average entropy\n",
    "averageEntropy = p0 * h0 + p1 * h1"
   ]
  },
  {
   "cell_type": "code",
   "execution_count": 158,
   "metadata": {},
   "outputs": [
    {
     "name": "stdout",
     "output_type": "stream",
     "text": [
      "average: Double = 0.7884504573082896\n"
     ]
    }
   ],
   "source": [
    "val average = entropyzy * 0.5 + entropyoy * 0.5"
   ]
  }
 ],
 "metadata": {
  "kernelspec": {
   "display_name": "ScalaTion",
   "language": "scala",
   "name": "scalation"
  },
  "language_info": {
   "file_extension": ".scala",
   "mimetype": "text/x-scala-source",
   "name": "scala"
  }
 },
 "nbformat": 4,
 "nbformat_minor": 2
}
